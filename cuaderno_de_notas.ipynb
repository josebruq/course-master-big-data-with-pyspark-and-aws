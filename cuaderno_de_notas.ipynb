{
  "cells": [
    {
      "cell_type": "markdown",
      "metadata": {
        "id": "view-in-github",
        "colab_type": "text"
      },
      "source": [
        "<a href=\"https://colab.research.google.com/github/josebruq/course-master-big-data-with-pyspark-and-aws/blob/main/cuaderno_de_notas.ipynb\" target=\"_parent\"><img src=\"https://colab.research.google.com/assets/colab-badge.svg\" alt=\"Open In Colab\"/></a>"
      ]
    },
    {
      "cell_type": "markdown",
      "id": "c48d935d",
      "metadata": {
        "id": "c48d935d"
      },
      "source": [
        "# Preprocesado de datos\n",
        "\n",
        "¿Que librerias necesitamos para preprocesar datos?\n",
        "\n",
        "-numpy as np  (contiene herramientas matemáticas)\n",
        "\n",
        "-matplotlib.pyplot as plt (sublibreria para gráficos)\n",
        "\n",
        "-pandas as pd (librería para cargar datos)\n",
        "\n"
      ]
    },
    {
      "cell_type": "code",
      "execution_count": null,
      "id": "e844c4c0",
      "metadata": {
        "id": "e844c4c0"
      },
      "outputs": [],
      "source": [
        "import numpy as np\n",
        "import matplotlib.pyplot as plt\n",
        "import pandas as pd"
      ]
    },
    {
      "cell_type": "markdown",
      "id": "42b4d8b2",
      "metadata": {
        "id": "42b4d8b2"
      },
      "source": [
        "## ¿Como importar datos?\n",
        "\n",
        "Como estamos usando google colab debemos montar el drive con la siguiente sentencia:"
      ]
    },
    {
      "cell_type": "code",
      "source": [
        "from google.colab import drive\n",
        "drive.mount('/content/drive')"
      ],
      "metadata": {
        "colab": {
          "base_uri": "https://localhost:8080/"
        },
        "id": "Dr-KOjyZS8vU",
        "outputId": "afc89023-b7e4-4c79-8800-008717670473"
      },
      "id": "Dr-KOjyZS8vU",
      "execution_count": null,
      "outputs": [
        {
          "output_type": "stream",
          "name": "stdout",
          "text": [
            "Drive already mounted at /content/drive; to attempt to forcibly remount, call drive.mount(\"/content/drive\", force_remount=True).\n"
          ]
        }
      ]
    },
    {
      "cell_type": "code",
      "execution_count": null,
      "id": "2904a7f6",
      "metadata": {
        "id": "2904a7f6",
        "outputId": "26862abd-efdf-4253-c8cc-b1f7b35b43c7",
        "colab": {
          "base_uri": "https://localhost:8080/",
          "height": 206
        }
      },
      "outputs": [
        {
          "output_type": "execute_result",
          "data": {
            "text/plain": [
              "   Country   Age   Salary Purchased\n",
              "0   France  44.0  72000.0        No\n",
              "1    Spain  27.0  48000.0       Yes\n",
              "2  Germany  30.0  54000.0        No\n",
              "3    Spain  38.0  61000.0        No\n",
              "4  Germany  40.0      NaN       Yes"
            ],
            "text/html": [
              "\n",
              "  <div id=\"df-e5a53862-f39f-4aa0-9a93-657548e5b36c\" class=\"colab-df-container\">\n",
              "    <div>\n",
              "<style scoped>\n",
              "    .dataframe tbody tr th:only-of-type {\n",
              "        vertical-align: middle;\n",
              "    }\n",
              "\n",
              "    .dataframe tbody tr th {\n",
              "        vertical-align: top;\n",
              "    }\n",
              "\n",
              "    .dataframe thead th {\n",
              "        text-align: right;\n",
              "    }\n",
              "</style>\n",
              "<table border=\"1\" class=\"dataframe\">\n",
              "  <thead>\n",
              "    <tr style=\"text-align: right;\">\n",
              "      <th></th>\n",
              "      <th>Country</th>\n",
              "      <th>Age</th>\n",
              "      <th>Salary</th>\n",
              "      <th>Purchased</th>\n",
              "    </tr>\n",
              "  </thead>\n",
              "  <tbody>\n",
              "    <tr>\n",
              "      <th>0</th>\n",
              "      <td>France</td>\n",
              "      <td>44.0</td>\n",
              "      <td>72000.0</td>\n",
              "      <td>No</td>\n",
              "    </tr>\n",
              "    <tr>\n",
              "      <th>1</th>\n",
              "      <td>Spain</td>\n",
              "      <td>27.0</td>\n",
              "      <td>48000.0</td>\n",
              "      <td>Yes</td>\n",
              "    </tr>\n",
              "    <tr>\n",
              "      <th>2</th>\n",
              "      <td>Germany</td>\n",
              "      <td>30.0</td>\n",
              "      <td>54000.0</td>\n",
              "      <td>No</td>\n",
              "    </tr>\n",
              "    <tr>\n",
              "      <th>3</th>\n",
              "      <td>Spain</td>\n",
              "      <td>38.0</td>\n",
              "      <td>61000.0</td>\n",
              "      <td>No</td>\n",
              "    </tr>\n",
              "    <tr>\n",
              "      <th>4</th>\n",
              "      <td>Germany</td>\n",
              "      <td>40.0</td>\n",
              "      <td>NaN</td>\n",
              "      <td>Yes</td>\n",
              "    </tr>\n",
              "  </tbody>\n",
              "</table>\n",
              "</div>\n",
              "    <div class=\"colab-df-buttons\">\n",
              "\n",
              "  <div class=\"colab-df-container\">\n",
              "    <button class=\"colab-df-convert\" onclick=\"convertToInteractive('df-e5a53862-f39f-4aa0-9a93-657548e5b36c')\"\n",
              "            title=\"Convert this dataframe to an interactive table.\"\n",
              "            style=\"display:none;\">\n",
              "\n",
              "  <svg xmlns=\"http://www.w3.org/2000/svg\" height=\"24px\" viewBox=\"0 -960 960 960\">\n",
              "    <path d=\"M120-120v-720h720v720H120Zm60-500h600v-160H180v160Zm220 220h160v-160H400v160Zm0 220h160v-160H400v160ZM180-400h160v-160H180v160Zm440 0h160v-160H620v160ZM180-180h160v-160H180v160Zm440 0h160v-160H620v160Z\"/>\n",
              "  </svg>\n",
              "    </button>\n",
              "\n",
              "  <style>\n",
              "    .colab-df-container {\n",
              "      display:flex;\n",
              "      gap: 12px;\n",
              "    }\n",
              "\n",
              "    .colab-df-convert {\n",
              "      background-color: #E8F0FE;\n",
              "      border: none;\n",
              "      border-radius: 50%;\n",
              "      cursor: pointer;\n",
              "      display: none;\n",
              "      fill: #1967D2;\n",
              "      height: 32px;\n",
              "      padding: 0 0 0 0;\n",
              "      width: 32px;\n",
              "    }\n",
              "\n",
              "    .colab-df-convert:hover {\n",
              "      background-color: #E2EBFA;\n",
              "      box-shadow: 0px 1px 2px rgba(60, 64, 67, 0.3), 0px 1px 3px 1px rgba(60, 64, 67, 0.15);\n",
              "      fill: #174EA6;\n",
              "    }\n",
              "\n",
              "    .colab-df-buttons div {\n",
              "      margin-bottom: 4px;\n",
              "    }\n",
              "\n",
              "    [theme=dark] .colab-df-convert {\n",
              "      background-color: #3B4455;\n",
              "      fill: #D2E3FC;\n",
              "    }\n",
              "\n",
              "    [theme=dark] .colab-df-convert:hover {\n",
              "      background-color: #434B5C;\n",
              "      box-shadow: 0px 1px 3px 1px rgba(0, 0, 0, 0.15);\n",
              "      filter: drop-shadow(0px 1px 2px rgba(0, 0, 0, 0.3));\n",
              "      fill: #FFFFFF;\n",
              "    }\n",
              "  </style>\n",
              "\n",
              "    <script>\n",
              "      const buttonEl =\n",
              "        document.querySelector('#df-e5a53862-f39f-4aa0-9a93-657548e5b36c button.colab-df-convert');\n",
              "      buttonEl.style.display =\n",
              "        google.colab.kernel.accessAllowed ? 'block' : 'none';\n",
              "\n",
              "      async function convertToInteractive(key) {\n",
              "        const element = document.querySelector('#df-e5a53862-f39f-4aa0-9a93-657548e5b36c');\n",
              "        const dataTable =\n",
              "          await google.colab.kernel.invokeFunction('convertToInteractive',\n",
              "                                                    [key], {});\n",
              "        if (!dataTable) return;\n",
              "\n",
              "        const docLinkHtml = 'Like what you see? Visit the ' +\n",
              "          '<a target=\"_blank\" href=https://colab.research.google.com/notebooks/data_table.ipynb>data table notebook</a>'\n",
              "          + ' to learn more about interactive tables.';\n",
              "        element.innerHTML = '';\n",
              "        dataTable['output_type'] = 'display_data';\n",
              "        await google.colab.output.renderOutput(dataTable, element);\n",
              "        const docLink = document.createElement('div');\n",
              "        docLink.innerHTML = docLinkHtml;\n",
              "        element.appendChild(docLink);\n",
              "      }\n",
              "    </script>\n",
              "  </div>\n",
              "\n",
              "\n",
              "<div id=\"df-c1df10cf-6809-434a-a5d8-431a906d7229\">\n",
              "  <button class=\"colab-df-quickchart\" onclick=\"quickchart('df-c1df10cf-6809-434a-a5d8-431a906d7229')\"\n",
              "            title=\"Suggest charts\"\n",
              "            style=\"display:none;\">\n",
              "\n",
              "<svg xmlns=\"http://www.w3.org/2000/svg\" height=\"24px\"viewBox=\"0 0 24 24\"\n",
              "     width=\"24px\">\n",
              "    <g>\n",
              "        <path d=\"M19 3H5c-1.1 0-2 .9-2 2v14c0 1.1.9 2 2 2h14c1.1 0 2-.9 2-2V5c0-1.1-.9-2-2-2zM9 17H7v-7h2v7zm4 0h-2V7h2v10zm4 0h-2v-4h2v4z\"/>\n",
              "    </g>\n",
              "</svg>\n",
              "  </button>\n",
              "\n",
              "<style>\n",
              "  .colab-df-quickchart {\n",
              "      --bg-color: #E8F0FE;\n",
              "      --fill-color: #1967D2;\n",
              "      --hover-bg-color: #E2EBFA;\n",
              "      --hover-fill-color: #174EA6;\n",
              "      --disabled-fill-color: #AAA;\n",
              "      --disabled-bg-color: #DDD;\n",
              "  }\n",
              "\n",
              "  [theme=dark] .colab-df-quickchart {\n",
              "      --bg-color: #3B4455;\n",
              "      --fill-color: #D2E3FC;\n",
              "      --hover-bg-color: #434B5C;\n",
              "      --hover-fill-color: #FFFFFF;\n",
              "      --disabled-bg-color: #3B4455;\n",
              "      --disabled-fill-color: #666;\n",
              "  }\n",
              "\n",
              "  .colab-df-quickchart {\n",
              "    background-color: var(--bg-color);\n",
              "    border: none;\n",
              "    border-radius: 50%;\n",
              "    cursor: pointer;\n",
              "    display: none;\n",
              "    fill: var(--fill-color);\n",
              "    height: 32px;\n",
              "    padding: 0;\n",
              "    width: 32px;\n",
              "  }\n",
              "\n",
              "  .colab-df-quickchart:hover {\n",
              "    background-color: var(--hover-bg-color);\n",
              "    box-shadow: 0 1px 2px rgba(60, 64, 67, 0.3), 0 1px 3px 1px rgba(60, 64, 67, 0.15);\n",
              "    fill: var(--button-hover-fill-color);\n",
              "  }\n",
              "\n",
              "  .colab-df-quickchart-complete:disabled,\n",
              "  .colab-df-quickchart-complete:disabled:hover {\n",
              "    background-color: var(--disabled-bg-color);\n",
              "    fill: var(--disabled-fill-color);\n",
              "    box-shadow: none;\n",
              "  }\n",
              "\n",
              "  .colab-df-spinner {\n",
              "    border: 2px solid var(--fill-color);\n",
              "    border-color: transparent;\n",
              "    border-bottom-color: var(--fill-color);\n",
              "    animation:\n",
              "      spin 1s steps(1) infinite;\n",
              "  }\n",
              "\n",
              "  @keyframes spin {\n",
              "    0% {\n",
              "      border-color: transparent;\n",
              "      border-bottom-color: var(--fill-color);\n",
              "      border-left-color: var(--fill-color);\n",
              "    }\n",
              "    20% {\n",
              "      border-color: transparent;\n",
              "      border-left-color: var(--fill-color);\n",
              "      border-top-color: var(--fill-color);\n",
              "    }\n",
              "    30% {\n",
              "      border-color: transparent;\n",
              "      border-left-color: var(--fill-color);\n",
              "      border-top-color: var(--fill-color);\n",
              "      border-right-color: var(--fill-color);\n",
              "    }\n",
              "    40% {\n",
              "      border-color: transparent;\n",
              "      border-right-color: var(--fill-color);\n",
              "      border-top-color: var(--fill-color);\n",
              "    }\n",
              "    60% {\n",
              "      border-color: transparent;\n",
              "      border-right-color: var(--fill-color);\n",
              "    }\n",
              "    80% {\n",
              "      border-color: transparent;\n",
              "      border-right-color: var(--fill-color);\n",
              "      border-bottom-color: var(--fill-color);\n",
              "    }\n",
              "    90% {\n",
              "      border-color: transparent;\n",
              "      border-bottom-color: var(--fill-color);\n",
              "    }\n",
              "  }\n",
              "</style>\n",
              "\n",
              "  <script>\n",
              "    async function quickchart(key) {\n",
              "      const quickchartButtonEl =\n",
              "        document.querySelector('#' + key + ' button');\n",
              "      quickchartButtonEl.disabled = true;  // To prevent multiple clicks.\n",
              "      quickchartButtonEl.classList.add('colab-df-spinner');\n",
              "      try {\n",
              "        const charts = await google.colab.kernel.invokeFunction(\n",
              "            'suggestCharts', [key], {});\n",
              "      } catch (error) {\n",
              "        console.error('Error during call to suggestCharts:', error);\n",
              "      }\n",
              "      quickchartButtonEl.classList.remove('colab-df-spinner');\n",
              "      quickchartButtonEl.classList.add('colab-df-quickchart-complete');\n",
              "    }\n",
              "    (() => {\n",
              "      let quickchartButtonEl =\n",
              "        document.querySelector('#df-c1df10cf-6809-434a-a5d8-431a906d7229 button');\n",
              "      quickchartButtonEl.style.display =\n",
              "        google.colab.kernel.accessAllowed ? 'block' : 'none';\n",
              "    })();\n",
              "  </script>\n",
              "</div>\n",
              "    </div>\n",
              "  </div>\n"
            ]
          },
          "metadata": {},
          "execution_count": 72
        }
      ],
      "source": [
        "# Importamos el dataset desde google drive:\n",
        "dataset=pd.read_csv('/content/drive/MyDrive/Cursos/Machine_learning_AZ/original/Part 1 - Data Preprocessing/Data.csv')\n",
        "dataset.head()\n"
      ]
    },
    {
      "cell_type": "markdown",
      "id": "c22b49d2",
      "metadata": {
        "id": "c22b49d2"
      },
      "source": [
        "Normalmente tenemos que distinguir entre variables independientes (X) y variables a predecir (Y).\n",
        "\n",
        "En el caso que nos ocupa, buscamos precedir la compra o no mediante el análisis de las varibles Country, Age y Salary.\n",
        "\n",
        "Por tanto:\n",
        "\n",
        "X --> Country, Age y Salary\n",
        "\n",
        "Y --> Purchased\n",
        "\n",
        "Debemos separar el conjunto de datos en submatrices X e Y.\n"
      ]
    },
    {
      "cell_type": "code",
      "execution_count": null,
      "id": "3c30c7a1",
      "metadata": {
        "id": "3c30c7a1"
      },
      "outputs": [],
      "source": [
        "X=dataset.iloc[:,:-1].values\n",
        "Y=dataset.iloc[:,-1].values"
      ]
    },
    {
      "cell_type": "markdown",
      "id": "f842e723",
      "metadata": {
        "id": "f842e723"
      },
      "source": [
        "## ¿Que hacer con los datos NaN?\n",
        "\n",
        "Una de las soluciones sería eliminar todas las filas que contengan NaN, pero esto puede no ser conveniente a la hora de realizar análisis finos (Ejm: Una enfermedad rara)\n",
        "\n",
        "La solución más aceptable es reemplazar los NaN por los valores medios\n",
        "aunque también podriamos reemplazarlos por los valores moda o la mediana.\n",
        "\n",
        "Usamos la librería sklearn.impute de la que importamos la clase SimpleImputer"
      ]
    },
    {
      "cell_type": "code",
      "execution_count": null,
      "id": "1d692199",
      "metadata": {
        "id": "1d692199",
        "outputId": "00c13701-a700-4bb4-c938-da4ac22ab93d",
        "colab": {
          "base_uri": "https://localhost:8080/"
        }
      },
      "outputs": [
        {
          "output_type": "stream",
          "name": "stdout",
          "text": [
            "[['France' 44.0 72000.0]\n",
            " ['Spain' 27.0 48000.0]\n",
            " ['Germany' 30.0 54000.0]\n",
            " ['Spain' 38.0 61000.0]\n",
            " ['Germany' 40.0 63777.77777777778]\n",
            " ['France' 35.0 58000.0]\n",
            " ['Spain' 38.77777777777778 52000.0]\n",
            " ['France' 48.0 79000.0]\n",
            " ['Germany' 50.0 83000.0]\n",
            " ['France' 37.0 67000.0]]\n"
          ]
        }
      ],
      "source": [
        "#Código para reemplazar los valores NaN por la media\n",
        "\n",
        "from sklearn.impute import SimpleImputer\n",
        "\n",
        "imputer = SimpleImputer(missing_values=np.nan, strategy='mean')\n",
        "imputer.fit(X[:,1:3])\n",
        "X[:,1:3] = imputer.transform(X[:,1:3])\n",
        "\n",
        "print(X)\n"
      ]
    },
    {
      "cell_type": "markdown",
      "source": [
        " ## Datos categoricos\n",
        "\n",
        "Son datos no numéricos que nos permiten etiquetar datos.\n",
        "\n",
        "Debemos traducir los datos categoricos a números para poder procesarlos.\n",
        "\n",
        "### ¿Como transformar los datos categoricos?\n",
        "Para poder transformar los datos categoricos debemos utilizar la librería labelEncoder de sklearn.preprocessing\n"
      ],
      "metadata": {
        "id": "nrKNczwabFk4"
      },
      "id": "nrKNczwabFk4"
    },
    {
      "cell_type": "code",
      "execution_count": null,
      "id": "3ac84ad3",
      "metadata": {
        "id": "3ac84ad3"
      },
      "outputs": [],
      "source": [
        " # Importamos la librería labelEncoder de sklearn.preprocessing\n",
        " from sklearn.preprocessing import LabelEncoder"
      ]
    },
    {
      "cell_type": "code",
      "source": [
        "#Creamos una copia de X para hacer pruebas\n",
        "X1=X\n",
        "#Sintaxis para convertir datos categoricos\n",
        "labelEncoder_X1 = LabelEncoder()\n",
        "labelEncoder_X.fit_transform(X1[:,0])"
      ],
      "metadata": {
        "colab": {
          "base_uri": "https://localhost:8080/"
        },
        "id": "MsgYDRErli6g",
        "outputId": "ee01331a-40ae-4619-be17-abea32d83d94"
      },
      "id": "MsgYDRErli6g",
      "execution_count": null,
      "outputs": [
        {
          "output_type": "execute_result",
          "data": {
            "text/plain": [
              "array([0, 2, 1, 2, 1, 0, 2, 0, 1, 0])"
            ]
          },
          "metadata": {},
          "execution_count": 76
        }
      ]
    },
    {
      "cell_type": "markdown",
      "source": [
        "Fijemonos los que los números de los paises han sido reemplazados por un número diferente para cada categoria.\n",
        "\n",
        "El problema es que estos números son ordinales mientras que los paises (categorias en este caso) no pueden ser ordenados de ninguna manera. Esto puede generar problemas a la hora de comparar variables categoricas.\n",
        "\n",
        "**Para las variables no ordinales no tiene sentido esta conversión**\n",
        "\n"
      ],
      "metadata": {
        "id": "FpnNJCf4mtPB"
      },
      "id": "FpnNJCf4mtPB"
    },
    {
      "cell_type": "markdown",
      "source": [
        "## Variables Dummy\n",
        "\n",
        "Se pueden usar para representar variables no ordinales.\n",
        "\n",
        "Representamos cada variable con un vector:\n",
        "\n",
        "![Screenshot from 2023-11-23 20-19-30.png](data:image/png;base64,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)\n",
        "\n"
      ],
      "metadata": {
        "id": "MAAnQ-ICnga_"
      },
      "id": "MAAnQ-ICnga_"
    },
    {
      "cell_type": "markdown",
      "source": [
        "Para convertir variables categoricas no ordinales en Dummy empleamos la libreria OneHotEncoder de sklearn.preprocessing\n"
      ],
      "metadata": {
        "id": "6KuOnrfMoiE3"
      },
      "id": "6KuOnrfMoiE3"
    },
    {
      "cell_type": "code",
      "source": [
        "from sklearn.preprocessing import OneHotEncoder\n",
        "from sklearn.compose import ColumnTransformer"
      ],
      "metadata": {
        "colab": {
          "base_uri": "https://localhost:8080/"
        },
        "id": "n_0tA-bWoEYg",
        "outputId": "197e33c5-6432-4558-9bdc-57440c36efa0"
      },
      "id": "n_0tA-bWoEYg",
      "execution_count": null,
      "outputs": [
        {
          "output_type": "stream",
          "name": "stdout",
          "text": [
            "Collecting scikit-learn==0.20\n",
            "  Using cached scikit-learn-0.20.0.tar.gz (28.1 MB)\n",
            "  Preparing metadata (setup.py) ... \u001b[?25l\u001b[?25hdone\n",
            "Requirement already satisfied: numpy>=1.8.2 in /usr/local/lib/python3.10/dist-packages (from scikit-learn==0.20) (1.23.5)\n",
            "Requirement already satisfied: scipy>=0.13.3 in /usr/local/lib/python3.10/dist-packages (from scikit-learn==0.20) (1.11.3)\n",
            "Building wheels for collected packages: scikit-learn\n",
            "  \u001b[1;31merror\u001b[0m: \u001b[1msubprocess-exited-with-error\u001b[0m\n",
            "  \n",
            "  \u001b[31m×\u001b[0m \u001b[32mpython setup.py bdist_wheel\u001b[0m did not run successfully.\n",
            "  \u001b[31m│\u001b[0m exit code: \u001b[1;36m1\u001b[0m\n",
            "  \u001b[31m╰─>\u001b[0m See above for output.\n",
            "  \n",
            "  \u001b[1;35mnote\u001b[0m: This error originates from a subprocess, and is likely not a problem with pip.\n",
            "  Building wheel for scikit-learn (setup.py) ... \u001b[?25lerror\n",
            "\u001b[31m  ERROR: Failed building wheel for scikit-learn\u001b[0m\u001b[31m\n",
            "\u001b[0m\u001b[?25h  Running setup.py clean for scikit-learn\n",
            "Failed to build scikit-learn\n",
            "\u001b[31mERROR: Could not build wheels for scikit-learn, which is required to install pyproject.toml-based projects\u001b[0m\u001b[31m\n",
            "\u001b[0m"
          ]
        }
      ]
    },
    {
      "cell_type": "code",
      "source": [
        "# Notar que este codigo no es correcto para la versión actual de sklearn\n",
        "# hay que procesar todos los datos partiendo del dataset inicial para la nueva versión\n",
        "# lo haré en un ejercicio final de preprocesado\n",
        "X1=X\n",
        "print(X1)\n",
        "#Sintaxis para convertir variables categoricas NO ordinales en Dunny:\n",
        "ohe = OneHotEncoder(categorical_features=[0])\n",
        "dummy= ohe.fit_transform(X1).toarray()\n",
        "print(dummy)"
      ],
      "metadata": {
        "colab": {
          "base_uri": "https://localhost:8080/",
          "height": 420
        },
        "id": "ZN5hBoBqneDL",
        "outputId": "da0fb67b-cd3b-4815-c3f7-880aef0ab6a9"
      },
      "id": "ZN5hBoBqneDL",
      "execution_count": null,
      "outputs": [
        {
          "output_type": "stream",
          "name": "stdout",
          "text": [
            "[['France' 44.0 72000.0]\n",
            " ['Spain' 27.0 48000.0]\n",
            " ['Germany' 30.0 54000.0]\n",
            " ['Spain' 38.0 61000.0]\n",
            " ['Germany' 40.0 63777.77777777778]\n",
            " ['France' 35.0 58000.0]\n",
            " ['Spain' 38.77777777777778 52000.0]\n",
            " ['France' 48.0 79000.0]\n",
            " ['Germany' 50.0 83000.0]\n",
            " ['France' 37.0 67000.0]]\n"
          ]
        },
        {
          "output_type": "error",
          "ename": "TypeError",
          "evalue": "ignored",
          "traceback": [
            "\u001b[0;31m---------------------------------------------------------------------------\u001b[0m",
            "\u001b[0;31mTypeError\u001b[0m                                 Traceback (most recent call last)",
            "\u001b[0;32m<ipython-input-77-3f6cec9f3baa>\u001b[0m in \u001b[0;36m<cell line: 4>\u001b[0;34m()\u001b[0m\n\u001b[1;32m      2\u001b[0m \u001b[0mprint\u001b[0m\u001b[0;34m(\u001b[0m\u001b[0mX1\u001b[0m\u001b[0;34m)\u001b[0m\u001b[0;34m\u001b[0m\u001b[0;34m\u001b[0m\u001b[0m\n\u001b[1;32m      3\u001b[0m \u001b[0;31m#Sintaxis para convertir variables categoricas NO ordinales en Dunny:\u001b[0m\u001b[0;34m\u001b[0m\u001b[0;34m\u001b[0m\u001b[0m\n\u001b[0;32m----> 4\u001b[0;31m \u001b[0mohe\u001b[0m \u001b[0;34m=\u001b[0m \u001b[0mOneHotEncoder\u001b[0m\u001b[0;34m(\u001b[0m\u001b[0mcategorical_features\u001b[0m\u001b[0;34m=\u001b[0m\u001b[0;34m[\u001b[0m\u001b[0;36m0\u001b[0m\u001b[0;34m]\u001b[0m\u001b[0;34m)\u001b[0m\u001b[0;34m\u001b[0m\u001b[0;34m\u001b[0m\u001b[0m\n\u001b[0m\u001b[1;32m      5\u001b[0m \u001b[0mdummy\u001b[0m\u001b[0;34m=\u001b[0m \u001b[0mohe\u001b[0m\u001b[0;34m.\u001b[0m\u001b[0mfit_transform\u001b[0m\u001b[0;34m(\u001b[0m\u001b[0mX1\u001b[0m\u001b[0;34m)\u001b[0m\u001b[0;34m.\u001b[0m\u001b[0mtoarray\u001b[0m\u001b[0;34m(\u001b[0m\u001b[0;34m)\u001b[0m\u001b[0;34m\u001b[0m\u001b[0;34m\u001b[0m\u001b[0m\n\u001b[1;32m      6\u001b[0m \u001b[0mprint\u001b[0m\u001b[0;34m(\u001b[0m\u001b[0mdummy\u001b[0m\u001b[0;34m)\u001b[0m\u001b[0;34m\u001b[0m\u001b[0;34m\u001b[0m\u001b[0m\n",
            "\u001b[0;31mTypeError\u001b[0m: OneHotEncoder.__init__() got an unexpected keyword argument 'categorical_features'"
          ]
        }
      ]
    },
    {
      "cell_type": "code",
      "source": [],
      "metadata": {
        "id": "_SdgqdK8_nh4"
      },
      "id": "_SdgqdK8_nh4",
      "execution_count": null,
      "outputs": []
    }
  ],
  "metadata": {
    "kernelspec": {
      "display_name": "Python 3 (ipykernel)",
      "language": "python",
      "name": "python3"
    },
    "language_info": {
      "codemirror_mode": {
        "name": "ipython",
        "version": 3
      },
      "file_extension": ".py",
      "mimetype": "text/x-python",
      "name": "python",
      "nbconvert_exporter": "python",
      "pygments_lexer": "ipython3",
      "version": "3.11.5"
    },
    "colab": {
      "provenance": [],
      "include_colab_link": true
    }
  },
  "nbformat": 4,
  "nbformat_minor": 5
}